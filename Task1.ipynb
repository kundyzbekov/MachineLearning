{
 "cells": [
  {
   "cell_type": "code",
   "execution_count": 11,
   "metadata": {},
   "outputs": [],
   "source": [
    "from scipy.spatial.distance import cosine\n",
    "import re\n",
    "import numpy as np"
   ]
  },
  {
   "cell_type": "code",
   "execution_count": 12,
   "metadata": {},
   "outputs": [],
   "source": [
    "def word_count(word, line): ''' количество слов в строке '''\n",
    "\n",
    "    result = 0\n",
    "    for w in line:\n",
    "        if w == word:\n",
    "            result = result + 1\n",
    "    return result"
   ]
  },
  {
   "cell_type": "code",
   "execution_count": 13,
   "metadata": {},
   "outputs": [],
   "source": [
    "def get_lines_and_words(file): ''' возвращает список строк и множество слов '''\n",
    "    result_lines, result_words = [], []\n",
    "\n",
    "    with open(file, 'r') as f:\n",
    "        raw_lines = f.readlines()\n",
    "\n",
    "    for line in raw_lines:\n",
    "        line = line.lower()\n",
    "        split_words = [x for x in re.split('[^a-z]', line) if x != '']\n",
    "        result_lines.append(split_words)\n",
    "        result_words.extend(split_words)\n",
    "\n",
    "    result_words = set(result_words)\n",
    "    result_words = dict(zip([x for x in range(len(result_words))], result_words))\n",
    "    return result_lines, result_words\n"
   ]
  },
  {
   "cell_type": "code",
   "execution_count": 14,
   "metadata": {},
   "outputs": [],
   "source": [
    "def set_matrix(lines, words):\n",
    "    result = np.zeros((len(lines), len(words)))\n",
    "\n",
    "    for i in range(len(lines)):\n",
    "        for j in range(len(words)):\n",
    "            result[i, j] = word_count(words[j], lines[i])\n",
    "\n",
    "    return result"
   ]
  },
  {
   "cell_type": "code",
   "execution_count": 15,
   "metadata": {},
   "outputs": [],
   "source": [
    "def get_distincts(matrix, startV):\n",
    "    result = {}\n",
    "    \n",
    "    for i in range(0, startV):\n",
    "        result[i] = cosine(matrix[startV,], matrix[i])\n",
    "    \n",
    "    for i in range(startV + 1, len(matrix)):\n",
    "        result[i] = cosine(matrix[startV,], matrix[i])\n",
    "\n",
    "    return result      \n",
    "    \n"
   ]
  },
  {
   "cell_type": "code",
   "execution_count": 16,
   "metadata": {},
   "outputs": [
    {
     "name": "stdout",
     "output_type": "stream",
     "text": [
      "6 4\n"
     ]
    }
   ],
   "source": [
    "LINES, WORDS = get_lines_and_words(\"sentences.txt\")\n",
    "C = set_matrix(LINES, WORDS)\n",
    "RES_DIC = get_distincts(C, 0)\n",
    "RES_SORT = sorted(RES_DIC.items(), key=lambda x: x[1])\n",
    "print(RES_SORT[0][0], RES_SORT[1][0])"
   ]
  },
  {
   "cell_type": "code",
   "execution_count": null,
   "metadata": {},
   "outputs": [],
   "source": []
  },
  {
   "cell_type": "code",
   "execution_count": null,
   "metadata": {},
   "outputs": [],
   "source": []
  }
 ],
 "metadata": {
  "kernelspec": {
   "display_name": "Python 3",
   "language": "python",
   "name": "python3"
  },
  "language_info": {
   "codemirror_mode": {
    "name": "ipython",
    "version": 3
   },
   "file_extension": ".py",
   "mimetype": "text/x-python",
   "name": "python",
   "nbconvert_exporter": "python",
   "pygments_lexer": "ipython3",
   "version": "3.6.5"
  }
 },
 "nbformat": 4,
 "nbformat_minor": 2
}
