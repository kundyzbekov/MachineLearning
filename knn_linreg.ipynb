{
 "cells": [
  {
   "cell_type": "code",
   "execution_count": null,
   "metadata": {},
   "outputs": [],
   "source": [
    "import math\n",
    "import operator"
   ]
  },
  {
   "cell_type": "code",
   "execution_count": null,
   "metadata": {},
   "outputs": [],
   "source": [
    "class kNN(object):\n",
    "\n",
    "    def __init__(self, x, y, k, weighted=False):\n",
    "        assert (k <= len(x)\n",
    "                ), \"k cannot be greater than training_set length\"\n",
    "        self.__x = x\n",
    "        self.__y = y\n",
    "        self.__k = k\n",
    "        self.__weighted = weighted\n",
    "\n"
   ]
  },
  {
   "cell_type": "code",
   "execution_count": null,
   "metadata": {},
   "outputs": [],
   "source": [
    " @staticmethod\n",
    "    def __euclidean_distance(x1, y1, x2, y2):\n",
    "        return math.sqrt((x1 - x2)**2 + (y1 - y2)**2)\n",
    "\n"
   ]
  },
  {
   "cell_type": "code",
   "execution_count": null,
   "metadata": {},
   "outputs": [],
   "source": [
    " @staticmethod\n",
    "    def gaussian(dist, sigma=1):\n",
    "        return 1./(math.sqrt(2.*math.pi)*sigma)*math.exp(-dist**2/(2*sigma**2))"
   ]
  },
  {
   "cell_type": "code",
   "execution_count": null,
   "metadata": {},
   "outputs": [],
   "source": [
    "def predict(self, test_set):\n",
    "        predictions = []\n",
    "        for i, j in test_set.values:\n",
    "            distances = []\n",
    "            for idx, (l, m) in enumerate(self.__x.values):\n",
    "                dist = self.__euclidean_distance(i, j, l, m)\n",
    "                distances.append((self.__y[idx], dist))\n",
    "            distances.sort(key=operator.itemgetter(1))\n",
    "            v = 0\n",
    "            total_weight = 0\n",
    "            for i in range(self.__k):\n",
    "                weight = self.gaussian(distances[i][1])\n",
    "                if self.__weighted:\n",
    "                    v += distances[i][0]*weight\n",
    "                else:\n",
    "                    v += distances[i][0]\n",
    "                total_weight += weight\n",
    "            if self.__weighted:\n",
    "                predictions.append(v/total_weight)\n",
    "            else:\n",
    "                predictions.append(v/self.__k)\n",
    "        return predictions"
   ]
  },
  {
   "cell_type": "code",
   "execution_count": null,
   "metadata": {},
   "outputs": [],
   "source": []
  }
 ],
 "metadata": {
  "kernelspec": {
   "display_name": "Python 3",
   "language": "python",
   "name": "python3"
  },
  "language_info": {
   "codemirror_mode": {
    "name": "ipython",
    "version": 3
   },
   "file_extension": ".py",
   "mimetype": "text/x-python",
   "name": "python",
   "nbconvert_exporter": "python",
   "pygments_lexer": "ipython3",
   "version": "3.6.5"
  }
 },
 "nbformat": 4,
 "nbformat_minor": 2
}
