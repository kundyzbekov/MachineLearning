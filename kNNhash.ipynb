{
 "cells": [
  {
   "cell_type": "markdown",
   "metadata": {},
   "source": [
    "# kNN Hash Example"
   ]
  },
  {
   "cell_type": "code",
   "execution_count": 93,
   "metadata": {
    "collapsed": true
   },
   "outputs": [],
   "source": [
    "import numpy as np\n",
    "import pandas as pd\n",
    "from sklearn.datasets import load_iris\n",
    "from functools import partial\n",
    "from random import random\n",
    "from sklearn.preprocessing import MinMaxScaler\n",
    "from collections import defaultdict\n",
    "from collections import Counter\n",
    "from scipy.spatial import distance\n",
    "from math import sqrt, ceil"
   ]
  },
  {
   "cell_type": "markdown",
   "metadata": {},
   "source": [
    "## Iris dataset"
   ]
  },
  {
   "cell_type": "code",
   "execution_count": 94,
   "metadata": {},
   "outputs": [
    {
     "data": {
      "text/plain": [
       "(150, 4)"
      ]
     },
     "execution_count": 94,
     "metadata": {},
     "output_type": "execute_result"
    }
   ],
   "source": [
    "df = load_iris()\n",
    "df.data.shape"
   ]
  },
  {
   "cell_type": "code",
   "execution_count": 95,
   "metadata": {
    "collapsed": true
   },
   "outputs": [],
   "source": [
    "def f_hash(w,r,b,x):\n",
    "    return int((np.dot(w,x)+b)/r)"
   ]
  },
  {
   "cell_type": "markdown",
   "metadata": {},
   "source": [
    "* https://docs.python.org/2/library/functools.html Here you can read about \"partial\"\n",
    "* http://scikit-learn.org/stable/modules/generated/sklearn.preprocessing.MinMaxScaler.html About mapping to [0,1]"
   ]
  },
  {
   "cell_type": "code",
   "execution_count": 96,
   "metadata": {},
   "outputs": [],
   "source": [
    "class KNNHash(object):\n",
    "    def __init__(self,m,L,nn):\n",
    "        self.m = m\n",
    "        self.L = L\n",
    "        self.nn = nn\n",
    "\n",
    "    def fit(self,X,y):\n",
    "        self.t_hh = [] #hash table\n",
    "        for j in range(self.L):\n",
    "            f_hh = [] #compositional hash function\n",
    "            for i in range(self.m):\n",
    "                w = np.random.rand(1,X[0].shape[0]) #  weights of a hash function\n",
    "                f_hh.append(partial(f_hash,w = w,r=random(),b=random())) # list of initialized hash function\n",
    "            self.t_hh.append(\n",
    "                (defaultdict(list),f_hh)\n",
    "            )\n",
    "        for n in range(X.shape[0]): \n",
    "            for j in range(self.L):\n",
    "                ind = 0\n",
    "                for i in range(self.m):\n",
    "                    ind = ind + self.t_hh[j][1][i](x=X[n]) #calculation of index in hash table, simply sum of all hash func\n",
    "                self.t_hh[j][0][ind].append((X[n],y[n])) #saving sample into corresponding index\n",
    "    \n",
    "    def predict(self,u):\n",
    "        min_d = 100\n",
    "        for j in range(self.L):\n",
    "            inds = []\n",
    "            for i in range(self.m):\n",
    "                inds.append(self.t_hh[j][1][i](x=u))\n",
    "            cntr = Counter([outp for inpt,outp in self.t_hh[j][0][sum(inds)]])\n",
    "            print(cntr)\n",
    "            \n",
    "            for x in self.t_hh[j][0][sum(inds)]:\n",
    "                temp = distance.euclidean(u,x[0])\n",
    "                if(temp < min_d):\n",
    "                    min_d = temp\n",
    "            print(min_d) #nearest vector and its label\n",
    "            #print(round(y/wt)) #label of u\n",
    "            #Here you must put your code, extend the method with distance function and calculation with unknown sample \"u\"\n",
    "            #Develop the rest part of kNN predict method that was discussed at the lecture"
   ]
  },
  {
   "cell_type": "code",
   "execution_count": 97,
   "metadata": {
    "collapsed": true
   },
   "outputs": [],
   "source": [
    "scaler = MinMaxScaler()\n",
    "scaler.fit(df.data)\n",
    "x = scaler.transform(df.data)\n",
    "y = df.target\n"
   ]
  },
  {
   "cell_type": "code",
   "execution_count": 98,
   "metadata": {},
   "outputs": [
    {
     "name": "stdout",
     "output_type": "stream",
     "text": [
      "0\n",
      "Counter({0: 22})\n",
      "0.03254041656427031\n",
      "Counter({0: 4, 1: 2})\n",
      "0.03254041656427031\n",
      "Counter({0: 15, 1: 8})\n",
      "0.03254041656427031\n",
      "Counter({0: 8, 1: 1})\n",
      "0.03254041656427031\n",
      "-------------\n",
      "1\n",
      "Counter({1: 6})\n",
      "0.05007710104811091\n",
      "Counter({2: 5, 1: 2})\n",
      "0.05007710104811091\n",
      "Counter({2: 3})\n",
      "0.05007710104811091\n",
      "Counter({2: 10, 1: 8})\n",
      "0.05007710104811091\n",
      "-------------\n",
      "2\n",
      "Counter({2: 10, 1: 6})\n",
      "0.057940218203017\n",
      "Counter({2: 2, 1: 1})\n",
      "0.057940218203017\n",
      "Counter({1: 7, 2: 4})\n",
      "0.057940218203017\n",
      "Counter({1: 4, 2: 4})\n",
      "0.057940218203017\n"
     ]
    }
   ],
   "source": [
    "knnhash = KNNHash(4,4,4)\n",
    "test1x = x[0]\n",
    "test2x = x[75]\n",
    "test3x = x[149]\n",
    "\n",
    "test1y = y[0]\n",
    "test2y = y[75]\n",
    "test3y = y[149]\n",
    "x = np.delete(x,[0,75,149],axis=0)\n",
    "y = np.delete(y,[0,75,149],axis=0)\n",
    "\n",
    "knnhash.fit(x,y)\n",
    "print(test1y)\n",
    "knnhash.predict(test1x)\n",
    "print(\"-------------\")\n",
    "print(test2y)\n",
    "knnhash.predict(test2x)\n",
    "print(\"-------------\")\n",
    "print(test3y)\n",
    "knnhash.predict(test3x)"
   ]
  },
  {
   "cell_type": "markdown",
   "metadata": {},
   "source": [
    "* Each string above corresponds to the particular hash table. And index in counter maps to the class. For example Counter({0: 13, 1: 1}) means that there are 13 samples close to \"u\" with \"0\" class labels and 1 sample with \"1\" class label."
   ]
  },
  {
   "cell_type": "code",
   "execution_count": null,
   "metadata": {},
   "outputs": [],
   "source": []
  }
 ],
 "metadata": {
  "anaconda-cloud": {},
  "kernelspec": {
   "display_name": "Python 3",
   "language": "python",
   "name": "python3"
  },
  "language_info": {
   "codemirror_mode": {
    "name": "ipython",
    "version": 3
   },
   "file_extension": ".py",
   "mimetype": "text/x-python",
   "name": "python",
   "nbconvert_exporter": "python",
   "pygments_lexer": "ipython3",
   "version": "3.6.5"
  }
 },
 "nbformat": 4,
 "nbformat_minor": 2
}
